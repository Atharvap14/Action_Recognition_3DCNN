{
  "cells": [
    {
      "cell_type": "code",
      "source": [
        "from google.colab import drive\n",
        "drive.mount('/content/drive')"
      ],
      "metadata": {
        "colab": {
          "base_uri": "https://localhost:8080/"
        },
        "id": "YM7LK9fDClJV",
        "outputId": "a999c398-9f3f-4047-ecaa-ca572545ca8e"
      },
      "execution_count": 1,
      "outputs": [
        {
          "output_type": "stream",
          "name": "stdout",
          "text": [
            "Mounted at /content/drive\n"
          ]
        }
      ]
    },
    {
      "cell_type": "code",
      "execution_count": 14,
      "metadata": {
        "id": "UqF7nrzMBOCx"
      },
      "outputs": [],
      "source": [
        "import os\n",
        "import random\n",
        "import cv2\n",
        "import numpy as np\n",
        "import torch\n",
        "import torch.nn as nn\n",
        "import torch.optim as optim\n",
        "from torch.utils.data import Dataset, DataLoader\n",
        "\n",
        "# Set a seed for reproducibility\n",
        "seed = 42\n",
        "random.seed(seed)\n",
        "np.random.seed(seed)\n",
        "torch.manual_seed(seed)\n",
        "\n",
        "# Define the dataset class\n",
        "class VideoDataset(Dataset):\n",
        "    def __init__(self, data_dir, clip_length=16, transform=None):\n",
        "        self.data_dir = data_dir\n",
        "        self.classes = os.listdir(data_dir)\n",
        "        self.class_to_idx = {cls: idx for idx, cls in enumerate(self.classes)}\n",
        "        self.clips = self._load_clips(clip_length)\n",
        "        self.transform = transform\n",
        "\n",
        "    def _load_clips(self, clip_length):\n",
        "        clips = []\n",
        "        for class_name in self.classes:\n",
        "            class_path = os.path.join(self.data_dir, class_name)\n",
        "            for video_file in os.listdir(class_path):\n",
        "                video_path = os.path.join(class_path, video_file)\n",
        "                cap = cv2.VideoCapture(video_path)\n",
        "                frames = []\n",
        "                while True:\n",
        "                    ret, frame = cap.read()\n",
        "                    if not ret:\n",
        "                        break\n",
        "                    frame = cv2.cvtColor(frame, cv2.COLOR_BGR2RGB)\n",
        "                    frame = cv2.resize(frame, (128, 128))\n",
        "                    frames.append(frame)\n",
        "                    if len(frames) == clip_length:\n",
        "                        clips.append((frames.copy(), self.class_to_idx[class_name]))\n",
        "                        frames.pop(0)  # Remove the oldest frame\n",
        "                cap.release()\n",
        "        return clips\n",
        "\n",
        "    def __len__(self):\n",
        "        return len(self.clips)\n",
        "\n",
        "    def __getitem__(self, idx):\n",
        "        frames, label = self.clips[idx]\n",
        "        frames = np.stack(frames, axis=0)\n",
        "        if self.transform:\n",
        "            frames = self.transform(frames)\n",
        "        return frames, label\n",
        "\n",
        "# Define a transform for data preprocessing (e.g., resizing and normalization)\n",
        "from torchvision import transforms\n",
        "\n",
        "\n",
        "# Create the dataset\n",
        "data_dir = '/content/drive/MyDrive/miniproj2_ds_vid'\n",
        "clip_length = 16\n",
        "dataset = VideoDataset(data_dir, clip_length=clip_length, transform=None)\n",
        "\n",
        "# Split the dataset into training and validation sets (80-20 split)\n",
        "total_samples = len(dataset)\n",
        "split_ratio = 0.8\n",
        "train_size = int(split_ratio * total_samples)\n",
        "val_size = total_samples - train_size\n",
        "\n",
        "train_dataset, val_dataset = torch.utils.data.random_split(dataset, [train_size, val_size])\n"
      ]
    },
    {
      "cell_type": "code",
      "execution_count": 15,
      "metadata": {
        "id": "A4MzQ-HWBOC1"
      },
      "outputs": [],
      "source": [
        "# Define the CNN model (you can modify this architecture as needed)\n",
        "class CNNModel(nn.Module):\n",
        "    def __init__(self, num_classes):\n",
        "        super(CNNModel, self).__init__()\n",
        "        self.features = nn.Sequential(\n",
        "            nn.Conv3d(in_channels = 16, out_channels = 32, kernel_size = 3, stride = 2),\n",
        "            nn.ReLU(inplace=True),\n",
        "            nn.MaxPool3d(kernel_size=(1, 2, 2), stride=2),\n",
        "\n",
        "        )\n",
        "        self.fc_layers = nn.Sequential(\n",
        "            nn.Linear(30752, 512),\n",
        "            nn.ReLU(inplace=True),\n",
        "            nn.Dropout(),\n",
        "            nn.Linear(512, num_classes),\n",
        "        )\n",
        "\n",
        "    def forward(self, x):\n",
        "\n",
        "        x = self.features(x)\n",
        "        x = x.view(x.size(0), -1)\n",
        "        x = self.fc_layers(x)\n",
        "        return x\n"
      ]
    },
    {
      "cell_type": "code",
      "execution_count": 16,
      "metadata": {
        "colab": {
          "base_uri": "https://localhost:8080/"
        },
        "id": "T5LjrAhZBOC2",
        "outputId": "46d9178f-1520-4818-945d-146b0581dea5"
      },
      "outputs": [
        {
          "output_type": "stream",
          "name": "stdout",
          "text": [
            "cuda\n",
            "Epoch 1/5, Training Loss: 1.289324234343114\n",
            "Epoch 1/5, Training Loss: 1.289324234343114, Validation Accuracy: 95.05%\n",
            "cuda\n",
            "Epoch 2/5, Training Loss: 0.2409455455443063\n",
            "Epoch 2/5, Training Loss: 0.2409455455443063, Validation Accuracy: 91.62%\n",
            "cuda\n",
            "Epoch 3/5, Training Loss: 0.2262628026622223\n",
            "Epoch 3/5, Training Loss: 0.2262628026622223, Validation Accuracy: 96.22%\n",
            "cuda\n",
            "Epoch 4/5, Training Loss: 0.23018410651617152\n",
            "Epoch 4/5, Training Loss: 0.23018410651617152, Validation Accuracy: 96.73%\n",
            "cuda\n",
            "Epoch 5/5, Training Loss: 0.15503122810957576\n",
            "Epoch 5/5, Training Loss: 0.15503122810957576, Validation Accuracy: 97.12%\n"
          ]
        }
      ],
      "source": [
        "import matplotlib.pyplot as plt\n",
        "\n",
        "# Initialize lists to store training loss, validation loss, training accuracy, and validation accuracy\n",
        "train_losses = []\n",
        "val_losses = []\n",
        "train_accuracies = []\n",
        "val_accuracies = []\n",
        "\n",
        "# Initialize the model, loss function, and optimizer\n",
        "num_classes = len(dataset.classes)\n",
        "model = CNNModel(num_classes)\n",
        "criterion = nn.CrossEntropyLoss()\n",
        "optimizer = optim.Adam(model.parameters(), lr=0.001)\n",
        "\n",
        "# Create data loaders for training and validation\n",
        "batch_size = 32\n",
        "train_loader = DataLoader(train_dataset, batch_size=batch_size, shuffle=True)\n",
        "val_loader = DataLoader(val_dataset, batch_size=batch_size)\n",
        "\n",
        "# Training loop\n",
        "num_epochs = 5\n",
        "device = torch.device(\"cuda\" if torch.cuda.is_available() else \"cpu\")\n",
        "model.to(device)\n",
        "for epoch in range(num_epochs):\n",
        "    print(device)\n",
        "    model.train()\n",
        "    total_loss = 0.0\n",
        "    total_val_loss = 0.0\n",
        "    for batch_data, labels in train_loader:\n",
        "        batch_data, labels = batch_data.to(device), labels.to(device)\n",
        "        optimizer.zero_grad()\n",
        "        outputs = model(batch_data.transpose(2,4).float())\n",
        "        loss = criterion(outputs, labels)\n",
        "        loss.backward()\n",
        "        optimizer.step()\n",
        "        total_loss += loss.item()\n",
        "\n",
        "\n",
        "    print(f\"Epoch {epoch+1}/{num_epochs}, Training Loss: {total_loss / len(train_loader)}\")\n",
        "\n",
        "    # Calculate training accuracy\n",
        "    correct_train = 0\n",
        "    total_train = 0\n",
        "    with torch.no_grad():\n",
        "        for batch_data, labels in train_loader:\n",
        "            batch_data, labels = batch_data.to(device), labels.to(device)\n",
        "            outputs = model(batch_data.transpose(2, 4).float())\n",
        "            _, predicted = torch.max(outputs.data, 1)\n",
        "            total_train += labels.size(0)\n",
        "            correct_train += (predicted == labels).sum().item()\n",
        "\n",
        "    train_accuracy = (correct_train / total_train) * 100\n",
        "    train_accuracies.append(train_accuracy)\n",
        "\n",
        "    # Validation accuracy calculation (similar to training accuracy calculation)\n",
        "    model.eval()\n",
        "    correct_val = 0\n",
        "    total_val = 0\n",
        "    with torch.no_grad():\n",
        "        for batch_data, labels in val_loader:\n",
        "            batch_data, labels = batch_data.to(device), labels.to(device)\n",
        "            outputs = model(batch_data.transpose(2, 4).float())\n",
        "            loss = criterion(outputs, labels)\n",
        "            total_val_loss+=loss.item()\n",
        "            _, predicted = torch.max(outputs.data, 1)\n",
        "            total_val += labels.size(0)\n",
        "            correct_val += (predicted == labels).sum().item()\n",
        "\n",
        "    val_accuracy = (correct_val / total_val) * 100\n",
        "    val_accuracies.append(val_accuracy)\n",
        "\n",
        "    print(f\"Epoch {epoch + 1}/{num_epochs}, Training Loss: {total_loss / len(train_loader)}, Validation Accuracy: {val_accuracy:.2f}%\")\n",
        "\n",
        "    # Append training and validation losses to their respective lists\n",
        "    train_losses.append(total_loss / len(train_loader))\n",
        "    val_losses.append(total_val_loss/len(val_loader))\n"
      ]
    },
    {
      "cell_type": "code",
      "source": [
        "# Plot training and validation loss\n",
        "plt.figure(figsize=(10, 5))\n",
        "plt.subplot(1, 2, 1)\n",
        "plt.plot(train_losses, label='Training Loss')\n",
        "plt.plot(val_losses, label='Validation Loss')\n",
        "plt.xlabel('Epoch')\n",
        "plt.ylabel('Loss')\n",
        "plt.legend()\n",
        "\n",
        "# Plot training and validation accuracy\n",
        "plt.subplot(1, 2, 2)\n",
        "plt.plot(train_accuracies, label='Training Accuracy')\n",
        "plt.plot(val_accuracies, label='Validation Accuracy')\n",
        "plt.xlabel('Epoch')\n",
        "plt.ylabel('Accuracy (%)')\n",
        "plt.legend()\n",
        "\n",
        "plt.show()"
      ],
      "metadata": {
        "colab": {
          "base_uri": "https://localhost:8080/",
          "height": 465
        },
        "id": "_zumJDBRQTU4",
        "outputId": "030d39ab-f6ce-4bc8-f3dd-5424638ee2d3"
      },
      "execution_count": 17,
      "outputs": [
        {
          "output_type": "display_data",
          "data": {
            "text/plain": [
              "<Figure size 1000x500 with 2 Axes>"
            ],
            "image/png": "[encoded data removed]"
          },
          "metadata": {}
        }
      ]
    },
    {
      "cell_type": "code",
      "execution_count": 5,
      "metadata": {
        "colab": {
          "base_uri": "https://localhost:8080/"
        },
        "id": "EgEsHM42BOC3",
        "outputId": "63b0e02b-6d6d-44e9-a9e3-c24fd1c4845d"
      },
      "outputs": [
        {
          "output_type": "stream",
          "name": "stdout",
          "text": [
            "Validation Accuracy: 97.56%\n"
          ]
        }
      ],
      "source": [
        "\n",
        "# Evaluation loop on the validation set\n",
        "model.eval()\n",
        "correct = 0\n",
        "total = 0\n",
        "with torch.no_grad():\n",
        "    for batch_data, labels in val_loader:\n",
        "        batch_data, labels = batch_data.to(device), labels.to(device)\n",
        "        outputs = model(batch_data.transpose(2,4).float())\n",
        "        _, predicted = torch.max(outputs.data, 1)\n",
        "        total += labels.size(0)\n",
        "        correct += (predicted == labels).sum().item()\n",
        "\n",
        "print(f\"Validation Accuracy: {(correct / total) * 100:.2f}%\")"
      ]
    },
    {
      "cell_type": "code",
      "execution_count": 6,
      "metadata": {
        "colab": {
          "base_uri": "https://localhost:8080/"
        },
        "id": "DtJGcINJBOC5",
        "outputId": "ed81e5d4-cded-431c-c157-4fdbcd441423"
      },
      "outputs": [
        {
          "output_type": "stream",
          "name": "stdout",
          "text": [
            "Model saved to model_vanilla_5_epoch.pth\n"
          ]
        }
      ],
      "source": [
        "model_save_path = 'model_vanilla_5_epoch.pth'\n",
        "\n",
        "# Save the trained model\n",
        "torch.save(model.state_dict(), model_save_path)\n",
        "print(f\"Model saved to {model_save_path}\")"
      ]
    },
    {
      "cell_type": "markdown",
      "metadata": {
        "id": "i4gCS1B4BOC6"
      },
      "source": [
        "## New Validation"
      ]
    },
    {
      "cell_type": "code",
      "execution_count": 7,
      "metadata": {
        "colab": {
          "base_uri": "https://localhost:8080/"
        },
        "id": "HZXM1lpzBOC7",
        "outputId": "4ddb56cd-b295-4e13-e637-5b2ab5d2cc92"
      },
      "outputs": [
        {
          "output_type": "stream",
          "name": "stdout",
          "text": [
            "Validation Accuracy with Random Clips: 93.42%\n"
          ]
        }
      ],
      "source": [
        "import random\n",
        "\n",
        "# Define a function to randomly select frames and repeat them to create 16 frames\n",
        "def create_random_clip(frames, clip_length=16):\n",
        "    if len(frames) >= clip_length:\n",
        "        # Randomly select 2 to 8 frames\n",
        "        num_frames_to_select = random.randint(2, 8)\n",
        "        start_idx = random.randint(0, len(frames) - num_frames_to_select)\n",
        "        selected_frames = frames[start_idx:start_idx + num_frames_to_select]\n",
        "\n",
        "        # Repeat selected frames to create a clip of length 16\n",
        "        clip = selected_frames.repeat(clip_length,1,1,1)\n",
        "    else:\n",
        "        # If there are not enough frames, repeat the available frames\n",
        "        clip = frames.repeat(clip_length,1,1,1)\n",
        "    return clip[:clip_length,:,:,:]\n",
        "\n",
        "# Evaluation loop on the validation set with random clips\n",
        "model.eval()\n",
        "correct = 0\n",
        "total = 0\n",
        "with torch.no_grad():\n",
        "    for batch_data, labels in val_loader:\n",
        "        batch_data, labels = batch_data.to(device), labels.to(device)\n",
        "\n",
        "        # Create a list to store the new batch data with random clips\n",
        "        new_batch_data = []\n",
        "\n",
        "        for video_clip in batch_data:\n",
        "            # Create a random clip from the original 16 frames\n",
        "            random_clip = create_random_clip(video_clip)\n",
        "            new_batch_data.append(random_clip)\n",
        "\n",
        "        new_batch_data = torch.stack(new_batch_data)\n",
        "        outputs = model(new_batch_data.transpose(2,4).float())\n",
        "        _, predicted = torch.max(outputs.data, 1)\n",
        "        total += labels.size(0)\n",
        "        correct += (predicted == labels).sum().item()\n",
        "\n",
        "print(f\"Validation Accuracy with Random Clips: {(correct / total) * 100:.2f}%\")\n"
      ]
    },
    {
      "cell_type": "markdown",
      "metadata": {
        "id": "fEq3bM3XBOC7"
      },
      "source": [
        "# Improved Model"
      ]
    },
    {
      "cell_type": "code",
      "execution_count": 18,
      "metadata": {
        "id": "w2nQIta8BOC8"
      },
      "outputs": [],
      "source": [
        "# Define the CNN model (you can modify this architecture as needed)\n",
        "class CNNModel_Improved(nn.Module):\n",
        "    def __init__(self, num_classes):\n",
        "        super(CNNModel_Improved, self).__init__()\n",
        "        self.features = nn.Sequential(\n",
        "            nn.Conv3d(in_channels = 16, out_channels = 64, kernel_size = 3, stride = 2),\n",
        "            nn.ReLU(inplace=True),\n",
        "            nn.MaxPool3d(kernel_size=(1, 2, 2), stride=2),\n",
        "            nn.Conv3d(in_channels = 64, out_channels = 128, kernel_size = (1,3,3), stride = 2),\n",
        "            nn.ReLU(inplace=True),\n",
        "            nn.MaxPool3d(kernel_size=(1, 3, 3), stride=2),\n",
        "        )\n",
        "        self.fc_layers = nn.Sequential(\n",
        "            nn.Linear(6272, 512),\n",
        "            nn.ReLU(inplace=True),\n",
        "            nn.Dropout(),\n",
        "            nn.Linear(512, num_classes),\n",
        "        )\n",
        "\n",
        "    def forward(self, x):\n",
        "\n",
        "        x = self.features(x)\n",
        "        x = x.view(x.size(0), -1)\n",
        "        x = self.fc_layers(x)\n",
        "        return x"
      ]
    },
    {
      "cell_type": "code",
      "execution_count": 19,
      "metadata": {
        "colab": {
          "base_uri": "https://localhost:8080/"
        },
        "id": "1H6VsmMSBOC8",
        "outputId": "a3772cd0-610f-4dd5-c7be-256ff28fa5d4"
      },
      "outputs": [
        {
          "output_type": "stream",
          "name": "stdout",
          "text": [
            "cuda\n",
            "Epoch 1/5, Training Loss: 0.5196479981641825\n",
            "Epoch 1/5, Training Loss: 0.5196479981641825, Validation Accuracy: 96.92%\n",
            "cuda\n",
            "Epoch 2/5, Training Loss: 0.1572924689713429\n",
            "Epoch 2/5, Training Loss: 0.1572924689713429, Validation Accuracy: 97.49%\n",
            "cuda\n",
            "Epoch 3/5, Training Loss: 0.1469116248045002\n",
            "Epoch 3/5, Training Loss: 0.1469116248045002, Validation Accuracy: 98.34%\n",
            "cuda\n",
            "Epoch 4/5, Training Loss: 0.11645018788229579\n",
            "Epoch 4/5, Training Loss: 0.11645018788229579, Validation Accuracy: 95.73%\n",
            "cuda\n",
            "Epoch 5/5, Training Loss: 0.13496867378316066\n",
            "Epoch 5/5, Training Loss: 0.13496867378316066, Validation Accuracy: 97.91%\n"
          ]
        }
      ],
      "source": [
        "import matplotlib.pyplot as plt\n",
        "\n",
        "# Initialize lists to store training loss, validation loss, training accuracy, and validation accuracy\n",
        "train_losses = []\n",
        "val_losses = []\n",
        "train_accuracies = []\n",
        "val_accuracies = []\n",
        "\n",
        "# Initialize the model, loss function, and optimizer\n",
        "num_classes = len(dataset.classes)\n",
        "model = CNNModel_Improved(num_classes)\n",
        "criterion = nn.CrossEntropyLoss()\n",
        "optimizer = optim.Adam(model.parameters(), lr=0.001)\n",
        "\n",
        "# Create data loaders for training and validation\n",
        "batch_size = 32\n",
        "train_loader = DataLoader(train_dataset, batch_size=batch_size, shuffle=True)\n",
        "val_loader = DataLoader(val_dataset, batch_size=batch_size)\n",
        "\n",
        "# Training loop\n",
        "num_epochs = 5\n",
        "device = torch.device(\"cuda\" if torch.cuda.is_available() else \"cpu\")\n",
        "model.to(device)\n",
        "for epoch in range(num_epochs):\n",
        "    print(device)\n",
        "    model.train()\n",
        "    total_loss = 0.0\n",
        "    total_val_loss = 0.0\n",
        "    for batch_data, labels in train_loader:\n",
        "        batch_data, labels = batch_data.to(device), labels.to(device)\n",
        "        optimizer.zero_grad()\n",
        "        outputs = model(batch_data.transpose(2,4).float())\n",
        "        loss = criterion(outputs, labels)\n",
        "        loss.backward()\n",
        "        optimizer.step()\n",
        "        total_loss += loss.item()\n",
        "\n",
        "\n",
        "    print(f\"Epoch {epoch+1}/{num_epochs}, Training Loss: {total_loss / len(train_loader)}\")\n",
        "\n",
        "    # Calculate training accuracy\n",
        "    correct_train = 0\n",
        "    total_train = 0\n",
        "    with torch.no_grad():\n",
        "        for batch_data, labels in train_loader:\n",
        "            batch_data, labels = batch_data.to(device), labels.to(device)\n",
        "            outputs = model(batch_data.transpose(2, 4).float())\n",
        "            _, predicted = torch.max(outputs.data, 1)\n",
        "            total_train += labels.size(0)\n",
        "            correct_train += (predicted == labels).sum().item()\n",
        "\n",
        "    train_accuracy = (correct_train / total_train) * 100\n",
        "    train_accuracies.append(train_accuracy)\n",
        "\n",
        "    # Validation accuracy calculation (similar to training accuracy calculation)\n",
        "    model.eval()\n",
        "    correct_val = 0\n",
        "    total_val = 0\n",
        "    with torch.no_grad():\n",
        "        for batch_data, labels in val_loader:\n",
        "            batch_data, labels = batch_data.to(device), labels.to(device)\n",
        "            outputs = model(batch_data.transpose(2, 4).float())\n",
        "            loss = criterion(outputs, labels)\n",
        "            total_val_loss+=loss.item()\n",
        "            _, predicted = torch.max(outputs.data, 1)\n",
        "            total_val += labels.size(0)\n",
        "            correct_val += (predicted == labels).sum().item()\n",
        "\n",
        "    val_accuracy = (correct_val / total_val) * 100\n",
        "    val_accuracies.append(val_accuracy)\n",
        "\n",
        "    print(f\"Epoch {epoch + 1}/{num_epochs}, Training Loss: {total_loss / len(train_loader)}, Validation Accuracy: {val_accuracy:.2f}%\")\n",
        "\n",
        "    # Append training and validation losses to their respective lists\n",
        "    train_losses.append(total_loss / len(train_loader))\n",
        "    val_losses.append(total_val_loss/len(val_loader))\n"
      ]
    },
    {
      "cell_type": "code",
      "source": [
        "# Plot training and validation loss\n",
        "plt.figure(figsize=(10, 5))\n",
        "plt.subplot(1, 2, 1)\n",
        "plt.plot(train_losses, label='Training Loss')\n",
        "plt.plot(val_losses, label='Validation Loss')\n",
        "plt.xlabel('Epoch')\n",
        "plt.ylabel('Loss')\n",
        "plt.legend()\n",
        "\n",
        "# Plot training and validation accuracy\n",
        "plt.subplot(1, 2, 2)\n",
        "plt.plot(train_accuracies, label='Training Accuracy')\n",
        "plt.plot(val_accuracies, label='Validation Accuracy')\n",
        "plt.xlabel('Epoch')\n",
        "plt.ylabel('Accuracy (%)')\n",
        "plt.legend()\n",
        "\n",
        "plt.show()"
      ],
      "metadata": {
        "colab": {
          "base_uri": "https://localhost:8080/",
          "height": 470
        },
        "id": "V-lYolWqQkVf",
        "outputId": "c3c75938-5582-4078-f189-9255d56b89a3"
      },
      "execution_count": 20,
      "outputs": [
        {
          "output_type": "display_data",
          "data": {
            "text/plain": [
              "<Figure size 1000x500 with 2 Axes>"
            ],
            "image/png": "[encoded data removed]"
          },
          "metadata": {}
        }
      ]
    },
    {
      "cell_type": "code",
      "execution_count": 10,
      "metadata": {
        "colab": {
          "base_uri": "https://localhost:8080/"
        },
        "id": "yP8UaOEdBOC9",
        "outputId": "1ac00058-8291-49f0-ea84-a3f05eed9b80"
      },
      "outputs": [
        {
          "output_type": "stream",
          "name": "stdout",
          "text": [
            "Validation Accuracy: 99.68%\n"
          ]
        }
      ],
      "source": [
        "\n",
        "# Evaluation loop on the validation set\n",
        "model.eval()\n",
        "correct = 0\n",
        "total = 0\n",
        "with torch.no_grad():\n",
        "    for batch_data, labels in val_loader:\n",
        "        batch_data, labels = batch_data.to(device), labels.to(device)\n",
        "        outputs = model(batch_data.transpose(2,4).float())\n",
        "        _, predicted = torch.max(outputs.data, 1)\n",
        "        total += labels.size(0)\n",
        "        correct += (predicted == labels).sum().item()\n",
        "\n",
        "print(f\"Validation Accuracy: {(correct / total) * 100:.2f}%\")"
      ]
    },
    {
      "cell_type": "markdown",
      "metadata": {
        "id": "0r4F4jZuBOC9"
      },
      "source": [
        "Validation Accuracy: 98.82%"
      ]
    },
    {
      "cell_type": "code",
      "execution_count": 11,
      "metadata": {
        "colab": {
          "base_uri": "https://localhost:8080/"
        },
        "id": "o1VdMg7nBOC9",
        "outputId": "b39da27d-3e6e-45d6-d315-1734fe4f634b"
      },
      "outputs": [
        {
          "output_type": "stream",
          "name": "stdout",
          "text": [
            "Model saved to model_improved_5_epoch.pth\n"
          ]
        }
      ],
      "source": [
        "model_save_path = 'model_improved_5_epoch.pth'\n",
        "\n",
        "# Save the trained model\n",
        "torch.save(model.state_dict(), model_save_path)\n",
        "print(f\"Model saved to {model_save_path}\")"
      ]
    },
    {
      "cell_type": "code",
      "execution_count": 12,
      "metadata": {
        "colab": {
          "base_uri": "https://localhost:8080/"
        },
        "id": "xm2ey-YsBOC-",
        "outputId": "4cd1c0ba-6a8b-4f77-c331-7ef8c5610100"
      },
      "outputs": [
        {
          "output_type": "stream",
          "name": "stdout",
          "text": [
            "Validation Accuracy with Random Clips: 98.82%\n"
          ]
        }
      ],
      "source": [
        "model.eval()\n",
        "correct = 0\n",
        "total = 0\n",
        "with torch.no_grad():\n",
        "    for batch_data, labels in val_loader:\n",
        "        batch_data, labels = batch_data.to(device), labels.to(device)\n",
        "\n",
        "        # Create a list to store the new batch data with random clips\n",
        "        new_batch_data = []\n",
        "\n",
        "        for video_clip in batch_data:\n",
        "            # Create a random clip from the original 16 frames\n",
        "            random_clip = create_random_clip(video_clip)\n",
        "            new_batch_data.append(random_clip)\n",
        "\n",
        "        new_batch_data = torch.stack(new_batch_data)\n",
        "        outputs = model(new_batch_data.transpose(2,4).float())\n",
        "        _, predicted = torch.max(outputs.data, 1)\n",
        "        total += labels.size(0)\n",
        "        correct += (predicted == labels).sum().item()\n",
        "\n",
        "print(f\"Validation Accuracy with Random Clips: {(correct / total) * 100:.2f}%\")"
      ]
    },
    {
      "cell_type": "markdown",
      "metadata": {
        "id": "i79N2XibBOC-"
      },
      "source": [
        "Validation Accuracy with Random Clips: 98.38%"
      ]
    },
    {
      "cell_type": "markdown",
      "metadata": {
        "id": "DeD3DSI7BOC-"
      },
      "source": []
    },
    {
      "cell_type": "code",
      "source": [
        "dataset.class_to_idx"
      ],
      "metadata": {
        "colab": {
          "base_uri": "https://localhost:8080/"
        },
        "id": "hToheKMgKr08",
        "outputId": "6d0905b9-8a35-429f-991b-7cfe6830ffd5"
      },
      "execution_count": 13,
      "outputs": [
        {
          "output_type": "execute_result",
          "data": {
            "text/plain": [
              "{'punch': 0, 'pick': 1, 'laugh': 2, 'pour': 3, 'pullup': 4}"
            ]
          },
          "metadata": {},
          "execution_count": 13
        }
      ]
    },
    {
      "cell_type": "code",
      "source": [],
      "metadata": {
        "id": "OF5oXNECKsuU"
      },
      "execution_count": null,
      "outputs": []
    }
  ],
  "metadata": {
    "kernelspec": {
      "display_name": "Python 3",
      "name": "python3"
    },
    "language_info": {
      "codemirror_mode": {
        "name": "ipython",
        "version": 3
      },
      "file_extension": ".py",
      "mimetype": "text/x-python",
      "name": "python",
      "nbconvert_exporter": "python",
      "pygments_lexer": "ipython3",
      "version": "3.10.12"
    },
    "colab": {
      "provenance": [],
      "gpuType": "T4"
    },
    "accelerator": "GPU"
  },
  "nbformat": 4,
  "nbformat_minor": 0
}